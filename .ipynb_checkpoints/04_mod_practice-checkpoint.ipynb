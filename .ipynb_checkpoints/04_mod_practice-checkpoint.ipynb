{
 "cells": [
  {
   "cell_type": "markdown",
   "metadata": {},
   "source": [
    "Data Science Fundamentals: Python |\n",
    "[Table of Contents](../index.ipynb)\n",
    "- - - \n",
    "<!--NAVIGATION-->\n",
    "Module 1. [Basic Python Syntax](./01_mod_python_syntax.ipynb) | [Variables and Objects](./02_python_variables_objects.ipynb) | [Operators](./03_python_operators.ipynb) | **[Exercises](./04_mod_practice.ipynb)**"
   ]
  },
  {
   "cell_type": "markdown",
   "metadata": {},
   "source": [
    "# Module 1: Practice Exercises"
   ]
  },
  {
   "cell_type": "markdown",
   "metadata": {},
   "source": [
    "1. Accept the user's first and last name and print them in reverse order with a space between them"
   ]
  },
  {
   "cell_type": "code",
   "execution_count": 15,
   "metadata": {},
   "outputs": [
    {
     "name": "stdout",
     "output_type": "stream",
     "text": [
      "Enter your first name. lis\n",
      "Enter your last name. schilb\n",
      "schilb lis\n"
     ]
    }
   ],
   "source": [
    "firstname = input (\"Enter your first name. \")\n",
    "lastname = input (\"Enter your last name. \")\n",
    "print(lastname + \" \" + firstname)"
   ]
  },
  {
   "cell_type": "markdown",
   "metadata": {},
   "source": [
    "2. Accept an integer (n) and compute the value of n+nn+nnn"
   ]
  },
  {
   "cell_type": "code",
   "execution_count": 23,
   "metadata": {},
   "outputs": [
    {
     "name": "stdout",
     "output_type": "stream",
     "text": [
      "Input an integer. 5\n",
      "155\n"
     ]
    }
   ],
   "source": [
    "# Create program here\n",
    "n = int(input(\"Input an integer. \"))\n",
    "print(n+n*n+n*n*n)"
   ]
  },
  {
   "cell_type": "markdown",
   "metadata": {},
   "source": [
    "3. Ask the user \"What country are you from?\" then print the following statement: \"I have heard that [input] is a beautiful country!\""
   ]
  },
  {
   "cell_type": "code",
   "execution_count": 14,
   "metadata": {},
   "outputs": [
    {
     "name": "stdout",
     "output_type": "stream",
     "text": [
      "What country are you from? belgium\n",
      "I have heard that belgium is a beautiful place. \n"
     ]
    }
   ],
   "source": [
    "# Create program here\n",
    "country = str(input(\"What country are you from? \"))\n",
    "print(\"I have heard that \" + country + \" is a beautiful place. \")"
   ]
  },
  {
   "cell_type": "markdown",
   "metadata": {},
   "source": [
    "4. Write a for loop that multiplies the number 4 by all the integers from 0 to 10 and prints the following for each: \"4 multiplied by [i] is [x]\" "
   ]
  },
  {
   "cell_type": "code",
   "execution_count": 13,
   "metadata": {},
   "outputs": [
    {
     "name": "stdout",
     "output_type": "stream",
     "text": [
      "4 multiplied by 0 is 0\n",
      "4 multiplied by 1 is 4\n",
      "4 multiplied by 2 is 8\n",
      "4 multiplied by 3 is 12\n",
      "4 multiplied by 4 is 16\n",
      "4 multiplied by 5 is 20\n",
      "4 multiplied by 6 is 24\n",
      "4 multiplied by 7 is 28\n",
      "4 multiplied by 8 is 32\n",
      "4 multiplied by 9 is 36\n",
      "4 multiplied by 10 is 40\n"
     ]
    }
   ],
   "source": [
    "# Create program here\n",
    "n = 4\n",
    "for i in range(0,11):\n",
    "    x = n*i\n",
    "    print( \"4 multiplied by \" + str(i) + \" is \" + str(x))"
   ]
  },
  {
   "cell_type": "markdown",
   "metadata": {},
   "source": [
    "5. Print a multiplication table that matches the following. Use two nested for loops to achieve this."
   ]
  },
  {
   "cell_type": "markdown",
   "metadata": {},
   "source": [
    "<img src=\"files/table.png\">"
   ]
  },
  {
   "cell_type": "code",
   "execution_count": 22,
   "metadata": {},
   "outputs": [
    {
     "name": "stdout",
     "output_type": "stream",
     "text": [
      " 1  2  3  4  5  6  7  8  9 10 \n",
      " 2  4  6  8 10 12 14 16 18 20 \n",
      " 3  6  9 12 15 18 21 24 27 30 \n",
      " 4  8 12 16 20 24 28 32 36 40 \n",
      " 5 10 15 20 25 30 35 40 45 50 \n",
      " 6 12 18 24 30 36 42 48 54 60 \n",
      " 7 14 21 28 35 42 49 56 63 70 \n",
      " 8 16 24 32 40 48 56 64 72 80 \n",
      " 9 18 27 36 45 54 63 72 81 90 \n",
      "10 20 30 40 50 60 70 80 90 100 \n"
     ]
    }
   ],
   "source": [
    "# Create program here\n",
    "for i in range(1, 11):\n",
    "    for j in range(1, 11):\n",
    "        print(\"{:2d}\".format(i * j), end=\" \")\n",
    "    print()"
   ]
  },
  {
   "cell_type": "markdown",
   "metadata": {},
   "source": [
    "<!--NAVIGATION-->\n",
    "Module 1. [Basic Python Syntax](./01_mod_python_syntax.ipynb) | [Variables and Objects](./02_python_variables_objects.ipynb) | [Operators](./03_python_operators.ipynb) | **[Practice](./04_mod_practice.ipynb)**\n",
    "<br>\n",
    "[top](#)"
   ]
  },
  {
   "cell_type": "markdown",
   "metadata": {},
   "source": [
    "- - -\n",
    "\n",
    "Copyright © 2020 Qualex Consulting Services Incorporated."
   ]
  }
 ],
 "metadata": {
  "kernelspec": {
   "display_name": "Python 3",
   "language": "python",
   "name": "python3"
  },
  "language_info": {
   "codemirror_mode": {
    "name": "ipython",
    "version": 3
   },
   "file_extension": ".py",
   "mimetype": "text/x-python",
   "name": "python",
   "nbconvert_exporter": "python",
   "pygments_lexer": "ipython3",
   "version": "3.7.6"
  }
 },
 "nbformat": 4,
 "nbformat_minor": 4
}
