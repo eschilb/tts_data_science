{
 "cells": [
  {
   "cell_type": "markdown",
   "metadata": {},
   "source": [
    "Data Science Fundamentals: Python |\n",
    "[Table of Contents](../index.ipynb)\n",
    "- - - \n",
    "<!--NAVIGATION-->\n",
    "Module 3. [Control Flow](./01_mod_control_flow.ipynb) | [Statements](./02_python_statements.ipynb) | [Functions](./03_python_functions.ipynb) | **[Exercises](./04_mod_exercises.ipynb)**"
   ]
  },
  {
   "cell_type": "markdown",
   "metadata": {},
   "source": [
    "# Module 3: Practice Exercises"
   ]
  },
  {
   "cell_type": "markdown",
   "metadata": {},
   "source": [
    "1. Guess a number between 1 to 9 given by the user. Hint. [Random](https://docs.python.org/3/library/random.html)"
   ]
  },
  {
   "cell_type": "code",
   "execution_count": 17,
   "metadata": {},
   "outputs": [
    {
     "name": "stdout",
     "output_type": "stream",
     "text": [
      "give me a number between 1 and 9: 9\n",
      "I guessed your number,  9\n"
     ]
    }
   ],
   "source": [
    "# getting user input number, randomly generating integer 1-9 \n",
    "import random\n",
    "x = int(input(\"give me a number between 1 and 9: \"))\n",
    "y =  random.randint(1, 9)\n",
    "if (x == y):\n",
    "    print(\"I guessed your number,\", y)\n",
    "else:\n",
    "    print(\"I guessed\", y, \"and it wasn't your number,\", x)"
   ]
  },
  {
   "cell_type": "markdown",
   "metadata": {},
   "source": [
    "2. Check the validity of password input by the user. Hint. [Re](https://docs.python.org/3/library/re.html) which does matching operations much like Perl.\n",
    "\n",
    "Validation:\n",
    "\n",
    "- At least 1 letter between [a-z] and 1 letter between [A-Z].\n",
    "- At least 1 number between [0-9].\n",
    "- At least 1 character from [$#@].\n",
    "- Minimum length 6 characters.\n",
    "- Maximum length 16 characters.\n",
    "\n",
    "Input your password : aA9#aA9\n",
    "Valid Password"
   ]
  },
  {
   "cell_type": "code",
   "execution_count": 26,
   "metadata": {},
   "outputs": [
    {
     "name": "stdout",
     "output_type": "stream",
     "text": [
      "Input your password: aA9#aA9\n",
      "Valid Password\n"
     ]
    }
   ],
   "source": [
    "# getting user input password, running through a while loop that checks validity of password, returns whether password is valid\n",
    "import re\n",
    "a = str(input(\"Input your password: \"))\n",
    "b = True\n",
    "while b:\n",
    "    if (len(a)<6 or len(a)>16):\n",
    "        break\n",
    "    elif not re.search(\"[a-z]\", a):\n",
    "        break\n",
    "    elif not re.search(\"[A-Z]\", a):\n",
    "        break\n",
    "    elif not re.search(\"[0-9]\", a):\n",
    "        break\n",
    "    elif not re.search(\"[$#@]\", a):\n",
    "        break\n",
    "    elif re.search(\"\\s\", a): \n",
    "        break\n",
    "    else: \n",
    "        print(\"Valid Password\")\n",
    "        b = False\n",
    "        break\n",
    "        \n",
    "if b:\n",
    "    print(\"Not a Valid Password\")"
   ]
  },
  {
   "cell_type": "markdown",
   "metadata": {},
   "source": [
    "3. Get input of the age of 3 people by user and determine oldest and youngest among them\n",
    "\n",
    "Enter First Person's Age : 21\n",
    "Enter Second Person's Age : 35\n",
    "Enter Third Person's Age : 66\n",
    "The Oldest of All Three People is :  66\n",
    "The Youngest Of All Three People is :  21"
   ]
  },
  {
   "cell_type": "code",
   "execution_count": 32,
   "metadata": {},
   "outputs": [
    {
     "name": "stdout",
     "output_type": "stream",
     "text": [
      "Enter First Person's Age : 3\n",
      "Enter Second Person's Age : 4\n",
      "Enter Third Person's Age : 5\n",
      "The oldest is: 5\n",
      "The youngest is: 3\n"
     ]
    }
   ],
   "source": [
    "# gets user inputs for age of 3 people\n",
    "number1 = int(input(\"Enter First Person's Age : \"))\n",
    "number2 = int(input(\"Enter Second Person's Age : \"))\n",
    "number3 = int(input(\"Enter Third Person's Age : \"))\n",
    "if number1 >= number2 and number1 >= number3:\n",
    "    print(\"The oldest is:\", number1)\n",
    "elif number2 >= number1 and number2 >= number3:\n",
    "    print(\"The oldest is:\", number2)\n",
    "else:\n",
    "    print(\"The oldest is:\", number3)\n",
    "\n",
    "if number1 <= number2 and number1 <= number3:\n",
    "    print(\"The youngest is:\", number1)\n",
    "elif number2 <=number1 and number2 <= number3:\n",
    "    print(\"The youngest is:\", number2)\n",
    "else:\n",
    "    print(\"The youngest is:\", number3)"
   ]
  },
  {
   "cell_type": "markdown",
   "metadata": {},
   "source": [
    "4. A student will not be allowed to sit in exam if his/her attendance is less than 75%.\n",
    "\n",
    "Take following input from user\n",
    "\n",
    "- Number of classes held\n",
    "- Number of classes attended.\n",
    "- And print percentage of class attended\n",
    "- Is student is allowed to sit in exam or not?"
   ]
  },
  {
   "cell_type": "code",
   "execution_count": 41,
   "metadata": {},
   "outputs": [
    {
     "name": "stdout",
     "output_type": "stream",
     "text": [
      "How many classes were held: 10\n",
      "How many classes have you attended : 8\n",
      "80.0\n",
      "You can sit in the exam\n"
     ]
    }
   ],
   "source": [
    "# user inputs number of classes held and attended, evaluates percentage of classes attended, returns whether student is allowed to sit in exam\n",
    "#number of classes held:\n",
    "held = int(input(\"How many classes were held: \"))\n",
    "#number of classes attended:\n",
    "attended = int(input(\"How many classes have you attended : \"))\n",
    "#percentage of classes\n",
    "percentageAttendance = (attended/held)*100\n",
    "print(percentageAttendance)\n",
    "if percentageAttendance >= 75:\n",
    "    print(\"You can sit in the exam\")\n",
    "else:\n",
    "    print(\"You cannot sit in the exam. Your attentance was too low.\")"
   ]
  },
  {
   "cell_type": "markdown",
   "metadata": {},
   "source": [
    "5. Get an integer N from the user and perform the following actions:\n",
    "\n",
    "Find out - \n",
    "- if N is odd, print \"weird\"\n",
    "- if N is even and in the inclusive range of 2 to 5, print \"Not Weird\"\n",
    "- if N is even and in the inclusive range of 6 to 20, print \"Weird\"\n",
    "- if N is even and greater than 20, print \"Not Weird\""
   ]
  },
  {
   "cell_type": "code",
   "execution_count": 53,
   "metadata": {},
   "outputs": [
    {
     "name": "stdout",
     "output_type": "stream",
     "text": [
      "Input a number to see if you are weird or not weird: 22\n",
      "not weird\n"
     ]
    }
   ],
   "source": [
    "# Create program here\n",
    "# If n is odd, print Weird\n",
    "# If n is even and in the inclusive range of 2 to 5, print Not Weird\n",
    "# If n is even and in the inclusive range of 6 to 20, print Weird\n",
    "# If n is even and greater than 20, print Not Weird\n",
    "n = int(input(\"Input a number to see if you are weird or not weird: \"))\n",
    "if n % 2 != 0:\n",
    "    print(\"weird\")\n",
    "elif n % 2 == 0 and 2 <= n <= 5:\n",
    "    print(\"not weird\")\n",
    "elif n % 2 == 0 and 6 <= n <= 20:\n",
    "    print(\"weird\")\n",
    "else:\n",
    "    print(\"not weird\")"
   ]
  },
  {
   "cell_type": "markdown",
   "metadata": {},
   "source": [
    "- - -\n",
    "\n",
    "Copyright © 2020 Qualex Consulting Services Incorporated."
   ]
  }
 ],
 "metadata": {
  "kernelspec": {
   "display_name": "Python 3",
   "language": "python",
   "name": "python3"
  },
  "language_info": {
   "codemirror_mode": {
    "name": "ipython",
    "version": 3
   },
   "file_extension": ".py",
   "mimetype": "text/x-python",
   "name": "python",
   "nbconvert_exporter": "python",
   "pygments_lexer": "ipython3",
   "version": "3.7.6"
  }
 },
 "nbformat": 4,
 "nbformat_minor": 4
}
