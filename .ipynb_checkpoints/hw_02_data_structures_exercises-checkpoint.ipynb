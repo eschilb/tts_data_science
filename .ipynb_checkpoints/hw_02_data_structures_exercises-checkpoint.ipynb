{
 "cells": [
  {
   "cell_type": "markdown",
   "metadata": {},
   "source": [
    "# Module 2: Practice Exercises\n",
    "\n",
    "**1. Get a space-separated list of integers from the user, create a tuple of those integers. Then compute and print the result of hash(tuple). Hint. Hash()**"
   ]
  },
  {
   "cell_type": "code",
   "execution_count": 3,
   "metadata": {},
   "outputs": [
    {
     "name": "stdout",
     "output_type": "stream",
     "text": [
      "How many integers in your list, followed by your integers separated with spaces9\n",
      "9 9 9 9 9 9 9 9 9\n",
      "-6476636093626515190\n"
     ]
    }
   ],
   "source": [
    "# This reads a line, splits it at white spaces, and applies int() to every element of the result\n",
    "n = int(input(\"How many integers in your list, followed by your integers separated with spaces\"))\n",
    "li = []\n",
    "for x in input().split():\n",
    "    li.append(int(x))\n",
    "t = tuple(li)\n",
    "print(hash(t))"
   ]
  },
  {
   "cell_type": "markdown",
   "metadata": {},
   "source": [
    "**2. Take the following two lists. Create a third list by picking a odd-index elements from the first list and even-index elements from the second.**"
   ]
  },
  {
   "cell_type": "code",
   "execution_count": 4,
   "metadata": {},
   "outputs": [
    {
     "name": "stdout",
     "output_type": "stream",
     "text": [
      "[6, 12, 18, 4, 12, 20, 28]\n"
     ]
    }
   ],
   "source": [
    "listOne = [3, 6, 9, 12, 15, 18, 21]\n",
    "listTwo = [4, 8, 12, 16, 20, 24, 28]\n",
    "#listThree is third list that has odd-index elements added from first list and even-index elements added from second\n",
    "listOne = [3, 6, 9, 12, 15, 18, 21]\n",
    "listTwo = [4, 8, 12, 16, 20, 24, 28]\n",
    "listThree = listOne[1::2] + listTwo[0::2]\n",
    "print(listThree)"
   ]
  },
  {
   "cell_type": "markdown",
   "metadata": {},
   "source": [
    "**3. Take the following list. Slice it into three equal chunks and reverse each list.**"
   ]
  },
  {
   "cell_type": "code",
   "execution_count": 5,
   "metadata": {},
   "outputs": [
    {
     "name": "stdout",
     "output_type": "stream",
     "text": [
      "[8, 45, 11] [12, 14, 23] [89, 45, 78]\n"
     ]
    }
   ],
   "source": [
    "sampleList = [11, 45, 8, 23, 14, 12, 78, 45, 89]\n",
    "\n",
    "#program for slicing into 3 chunks\n",
    "chunkOne = sampleList[0:3]\n",
    "chunkTwo = sampleList[3:6]\n",
    "chunkThree = sampleList[6:]\n",
    "chunkOne.reverse()\n",
    "chunkTwo.reverse()\n",
    "chunkThree.reverse()\n",
    "print(chunkOne, chunkTwo, chunkThree)"
   ]
  },
  {
   "cell_type": "markdown",
   "metadata": {},
   "source": [
    "**4. Iterate through a given list and check if a given element already exists in a dictionary as a key’s value. If not, delete it from the list.**"
   ]
  },
  {
   "cell_type": "code",
   "execution_count": 6,
   "metadata": {},
   "outputs": [
    {
     "name": "stdout",
     "output_type": "stream",
     "text": [
      "[64, 37, 83, 95]\n"
     ]
    }
   ],
   "source": [
    "#checking list for elements that already exist as a key's value. If not, delete from list.\n",
    "rollNumber = [47, 64, 69, 37, 76, 83, 95, 97]\n",
    "sampleDict ={'Zach':47, 'Emma':69, 'Kelly':76, 'Jason':97}\n",
    "for ele in rollNumber:\n",
    "    for value in sampleDict.values():\n",
    "        if (ele == value):\n",
    "            rollNumber.remove(ele)\n",
    "            \n",
    "print(rollNumber)"
   ]
  },
  {
   "cell_type": "code",
   "execution_count": null,
   "metadata": {},
   "outputs": [],
   "source": []
  }
 ],
 "metadata": {
  "kernelspec": {
   "display_name": "Python 3",
   "language": "python",
   "name": "python3"
  },
  "language_info": {
   "codemirror_mode": {
    "name": "ipython",
    "version": 3
   },
   "file_extension": ".py",
   "mimetype": "text/x-python",
   "name": "python",
   "nbconvert_exporter": "python",
   "pygments_lexer": "ipython3",
   "version": "3.7.6"
  }
 },
 "nbformat": 4,
 "nbformat_minor": 4
}
