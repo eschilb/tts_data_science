{
 "cells": [
  {
   "cell_type": "markdown",
   "metadata": {},
   "source": [
    "Exercises\n",
    "---\n",
    "#### Arithmetic\n",
    "- Write a program that prints out the results of at least one calculation for each of the basic operations: addition, subtraction, multiplication, division, and exponents.\n",
    "\n",
    "#### Order of Operations\n",
    "- Find a calculation whose result depends on the order of operations.\n",
    "- Print the result of this calculation using the standard order of operations.\n",
    "- Use parentheses to force a nonstandard order of operations. Print the result of this calculation.\n",
    "\n",
    "#### Long Decimals\n",
    "- On paper, 0.1+0.2=0.3. But you have seen that in Python, 0.1+0.2=0.30000000000000004.\n",
    "- Find at least one other calculation that results in a long decimal like this.\n",
    "\n",
    "#### Python 2 or Python 3?\n",
    "- Use integer division to show whether your Python interpeter is using Python 2 or Python 3."
   ]
  },
  {
   "cell_type": "code",
   "execution_count": 5,
   "metadata": {},
   "outputs": [
    {
     "name": "stdout",
     "output_type": "stream",
     "text": [
      "15\n",
      "-5\n",
      "50\n",
      "0.5\n",
      "9765625\n"
     ]
    }
   ],
   "source": [
    "#arithmetic\n",
    "print(5+10)\n",
    "print(5-10)\n",
    "print(5*10)\n",
    "print(5/10)\n",
    "print(5**10)"
   ]
  },
  {
   "cell_type": "code",
   "execution_count": 6,
   "metadata": {},
   "outputs": [
    {
     "name": "stdout",
     "output_type": "stream",
     "text": [
      "58\n",
      "130\n"
     ]
    }
   ],
   "source": [
    "#order of operations\n",
    "standard_order = 10*5+3+5\n",
    "print(standard_order)\n",
    "\n",
    "my_order = 10*(5+3+5)\n",
    "print(my_order)"
   ]
  },
  {
   "cell_type": "code",
   "execution_count": 7,
   "metadata": {},
   "outputs": [
    {
     "name": "stdout",
     "output_type": "stream",
     "text": [
      "5.551115123125783e-17\n"
     ]
    }
   ],
   "source": [
    "#long decimal\n",
    "print(.1+.1+.1-.3)"
   ]
  },
  {
   "cell_type": "code",
   "execution_count": 8,
   "metadata": {},
   "outputs": [
    {
     "name": "stdout",
     "output_type": "stream",
     "text": [
      "1.0\n"
     ]
    }
   ],
   "source": [
    "#python 2 or 3? looks like 3 to me\n",
    "print(1/1)"
   ]
  },
  {
   "cell_type": "markdown",
   "metadata": {},
   "source": [
    "Challenges\n",
    "---\n",
    "#### Neat Arithmetic\n",
    "\n",
    "- Store the results of at least 5 different calculations in separate variables. Make sure you use each operation at least once.\n",
    "- Print a series of informative statements, such as \"The result of the calculation 5+7 is 12.\"\n",
    "\n",
    "#### Neat Order of Operations\n",
    "- Take your work for \"Order of Operations\" above.\n",
    "- Instead of just printing the results, print an informative summary of the results. Show each calculation that is being done and the result of that calculation. Explain how you modified the result using parentheses.\n",
    "\n",
    "#### Long Decimals - Pattern\n",
    "- On paper, 0.1+0.2=0.3. But you have seen that in Python, 0.1+0.2=0.30000000000000004.\n",
    "- Find a number of other calculations that result in a long decimal like this. Try to find a pattern in what kinds of numbers will result in long decimals.\n",
    "\n",
    "#### Python 2 and Python 3\n",
    "- Find a way to make your computer interpret 3/2 once in Python 2, and once in Python 3.\n",
    "- (HINT) Don't spend too much time on this, unless you like reading on forums about installing from packages and what not.\n",
    "\n",
    "    If you just want to play around with Python 2 and Python 3, you can easily do so on [pythontutor.com](http://pythontutor.com/). Click \"Start using Online Python Tutor now\", and then delete the sample code in the text box so you can enter your own code. On that page, there is a drop-down list just below the text box that lets you select different versions of Python. Click \"Visualize Execution\" to run your code. On the next page, you can either click \"Forward\" to step through your code one line at a time, or click \"Last\" to run your entire program."
   ]
  },
  {
   "cell_type": "code",
   "execution_count": 9,
   "metadata": {},
   "outputs": [
    {
     "name": "stdout",
     "output_type": "stream",
     "text": [
      "The result of the calculation 1/4 is 0.25\n",
      "The result of the calculation 1/5 is 0.2\n",
      "The result of the calculation 7**9 is 40353607\n",
      "The result of the calculation 4*956 is 3824\n",
      "The result of the calculation 3*8/14 is 1.7142857142857142\n"
     ]
    }
   ],
   "source": [
    "#neat arithmetic\n",
    "problem_1 = 1/4\n",
    "problem_2 = 1/5\n",
    "problem_3 = 7**9\n",
    "problem_4 = 4*956\n",
    "problem_5 = 3*8/14\n",
    "\n",
    "message_1 = \"The result of the calculation 1/4 is \" + str(problem_1)\n",
    "print(message_1)\n",
    "\n",
    "message_2 = \"The result of the calculation 1/5 is \" + str(problem_2)\n",
    "print(message_2)\n",
    "\n",
    "message_3 = \"The result of the calculation 7**9 is \" + str(problem_3)\n",
    "print(message_3)\n",
    "\n",
    "message_4 = \"The result of the calculation 4*956 is \" + str(problem_4)\n",
    "print(message_4)\n",
    "\n",
    "message_5 = \"The result of the calculation 3*8/14 is \" + str(problem_5)\n",
    "print(message_5)"
   ]
  },
  {
   "cell_type": "code",
   "execution_count": null,
   "metadata": {},
   "outputs": [],
   "source": []
  }
 ],
 "metadata": {
  "kernelspec": {
   "display_name": "Python 3",
   "language": "python",
   "name": "python3"
  },
  "language_info": {
   "codemirror_mode": {
    "name": "ipython",
    "version": 3
   },
   "file_extension": ".py",
   "mimetype": "text/x-python",
   "name": "python",
   "nbconvert_exporter": "python",
   "pygments_lexer": "ipython3",
   "version": "3.7.6"
  }
 },
 "nbformat": 4,
 "nbformat_minor": 4
}
