{
 "cells": [
  {
   "cell_type": "markdown",
   "metadata": {},
   "source": [
    "Data Science Fundamentals: Python |\n",
    "[Table of Contents](../index.ipynb)\n",
    "- - - \n",
    "<!--NAVIGATION-->\n",
    "Module 2. Python Data | [Simple Types](./01_simple_types.ipynb) | [Data Structures](./02_data_structures.ipynb) | **[Exercises](./03_data_exercises.ipynb)**"
   ]
  },
  {
   "cell_type": "markdown",
   "metadata": {},
   "source": [
    "# Module 2: Practice Exercises"
   ]
  },
  {
   "cell_type": "markdown",
   "metadata": {},
   "source": [
    "1. Get a space-separated list of integers from the user, create a tuple of those integers. Then compute and print the result of hash(tuple).  [Hint](https://docs.python.org/3/library/functions.html#hash). **Hash()**"
   ]
  },
  {
   "cell_type": "markdown",
   "metadata": {},
   "source": [
    "A **[hash](https://en.wikipedia.org/wiki/Hash_function)** is an fixed sized integer that identifies a particular value. Each value needs to have its own hash, so for the same value you will get the same hash even if it's not the same object."
   ]
  },
  {
   "cell_type": "raw",
   "metadata": {},
   "source": [
    "hash(\"foo\")\n",
    "1849024199686380661"
   ]
  },
  {
   "cell_type": "code",
   "execution_count": 10,
   "metadata": {},
   "outputs": [
    {
     "name": "stdout",
     "output_type": "stream",
     "text": [
      "Enter how many integers7\n",
      "9 9 9 9 9 9 9 9 9 9 9 9\n",
      "1018198519162895537\n"
     ]
    }
   ],
   "source": [
    "# This reads a line, splits it at white spaces, and applies int() to every element of the result\n",
    "n = int(input())\n",
    "li = []\n",
    "for x in input().split():\n",
    "    li.append(int(x))\n",
    "t = tuple(li)\n",
    "print(hash(t))"
   ]
  },
  {
   "cell_type": "code",
   "execution_count": 4,
   "metadata": {},
   "outputs": [],
   "source": [
    "# Create program here "
   ]
  },
  {
   "cell_type": "code",
   "execution_count": 41,
   "metadata": {},
   "outputs": [
    {
     "name": "stdout",
     "output_type": "stream",
     "text": [
      "[10.2, 3.5, 55.6]\n"
     ]
    }
   ],
   "source": [
    "# Create program here"
   ]
  },
  {
   "cell_type": "code",
   "execution_count": 42,
   "metadata": {},
   "outputs": [
    {
     "name": "stdout",
     "output_type": "stream",
     "text": [
      "New number is: 69.3\n"
     ]
    }
   ],
   "source": [
    "# Create program here"
   ]
  },
  {
   "cell_type": "code",
   "execution_count": 43,
   "metadata": {},
   "outputs": [
    {
     "name": "stdout",
     "output_type": "stream",
     "text": [
      "Hash of the number is 69.3\n",
      "691752902764101701\n"
     ]
    }
   ],
   "source": [
    "# Create program here"
   ]
  },
  {
   "cell_type": "code",
   "execution_count": 34,
   "metadata": {},
   "outputs": [
    {
     "name": "stdout",
     "output_type": "stream",
     "text": [
      "[6, 7, 8, 9]\n",
      "After deleting Numbers : \n"
     ]
    },
    {
     "ename": "NameError",
     "evalue": "name 'numbers' is not defined",
     "output_type": "error",
     "traceback": [
      "\u001b[0;31m---------------------------------------------------------------------------\u001b[0m",
      "\u001b[0;31mNameError\u001b[0m                                 Traceback (most recent call last)",
      "\u001b[0;32m<ipython-input-34-95eedc741f94>\u001b[0m in \u001b[0;36m<module>\u001b[0;34m\u001b[0m\n\u001b[1;32m      2\u001b[0m \u001b[0;32mdel\u001b[0m \u001b[0mnumbers\u001b[0m\u001b[0;34m;\u001b[0m\u001b[0;34m\u001b[0m\u001b[0;34m\u001b[0m\u001b[0m\n\u001b[1;32m      3\u001b[0m \u001b[0mprint\u001b[0m\u001b[0;34m(\u001b[0m\u001b[0;34m\"After deleting Numbers : \"\u001b[0m\u001b[0;34m)\u001b[0m\u001b[0;34m\u001b[0m\u001b[0;34m\u001b[0m\u001b[0m\n\u001b[0;32m----> 4\u001b[0;31m \u001b[0mprint\u001b[0m\u001b[0;34m(\u001b[0m\u001b[0mnumbers\u001b[0m\u001b[0;34m)\u001b[0m\u001b[0;34m;\u001b[0m\u001b[0;34m\u001b[0m\u001b[0;34m\u001b[0m\u001b[0m\n\u001b[0m",
      "\u001b[0;31mNameError\u001b[0m: name 'numbers' is not defined"
     ]
    }
   ],
   "source": [
    "# Create program here"
   ]
  },
  {
   "cell_type": "markdown",
   "metadata": {},
   "source": [
    "2. Take the following two lists. Create a third list by picking a odd-index elements from the first list and even-index elements from the second."
   ]
  },
  {
   "cell_type": "code",
   "execution_count": 1,
   "metadata": {},
   "outputs": [],
   "source": [
    "listOne = [3, 6, 9, 12, 15, 18, 21]\n",
    "listTwo = [4, 8, 12, 16, 20, 24, 28]"
   ]
  },
  {
   "cell_type": "code",
   "execution_count": 18,
   "metadata": {},
   "outputs": [
    {
     "name": "stdout",
     "output_type": "stream",
     "text": [
      "[6, 12, 18, 4, 12, 20, 28]\n"
     ]
    }
   ],
   "source": [
    "#listThree is third list that has odd-index elements added from first list and even-index elements added from second\n",
    "listOne = [3, 6, 9, 12, 15, 18, 21]\n",
    "listTwo = [4, 8, 12, 16, 20, 24, 28]\n",
    "listThree = listOne[1::2] + listTwo[0::2]\n",
    "print(listThree)"
   ]
  },
  {
   "cell_type": "code",
   "execution_count": 4,
   "metadata": {},
   "outputs": [
    {
     "name": "stdout",
     "output_type": "stream",
     "text": [
      "The original list : [3, 6, 7, 8, 9, 2, 1, 5]\n",
      "Separated odd and even index list: [3, 6, 9, 12, 15, 18, 21, 3, 7, 9, 1, 4, 8, 12, 16, 20, 24, 28, 6, 8, 2, 5]\n"
     ]
    }
   ],
   "source": [
    "# Separating odd and even index elements \n",
    "# Create program here"
   ]
  },
  {
   "cell_type": "code",
   "execution_count": 22,
   "metadata": {},
   "outputs": [
    {
     "name": "stdout",
     "output_type": "stream",
     "text": [
      "[3, 6, 9, 12, 15, 18, 21, 3, 7, 9, 1, 4, 8, 12, 16, 20, 24, 28, 6, 8, 2, 5]\n"
     ]
    }
   ],
   "source": [
    "#listFour has listOne, original list even elements, listTwo, original list odd elements\n",
    "originalList = [3 ,6 ,7 ,8 ,9 ,2 , 1, 5]\n",
    "listFour = listOne + originalList[0::2] + listTwo + originalList[1::2]\n",
    "print(listFour)"
   ]
  },
  {
   "cell_type": "markdown",
   "metadata": {},
   "source": [
    "3. Take the following list. Slice it into three equal chunks and reverse each list."
   ]
  },
  {
   "cell_type": "code",
   "execution_count": 26,
   "metadata": {},
   "outputs": [
    {
     "name": "stdout",
     "output_type": "stream",
     "text": [
      "[8, 45, 11] [12, 14, 23] [89, 45, 78]\n"
     ]
    }
   ],
   "source": [
    "sampleList = [11, 45, 8, 23, 14, 12, 78, 45, 89]\n",
    "\n",
    "#program for slicing into 3 chunks\n",
    "chunkOne = sampleList[0:3]\n",
    "chunkTwo = sampleList[3:6]\n",
    "chunkThree = sampleList[6:]\n",
    "chunkOne.reverse()\n",
    "chunkTwo.reverse()\n",
    "chunkThree.reverse()\n",
    "print(chunkOne, chunkTwo, chunkThree)"
   ]
  },
  {
   "cell_type": "code",
   "execution_count": 6,
   "metadata": {},
   "outputs": [
    {
     "name": "stdout",
     "output_type": "stream",
     "text": [
      "The original list : [11, 45, 8, 23, 14, 12, 78, 45, 89]\n",
      "Separated odd list : [45, 23, 12, 45]\n",
      "Separated even list : [11, 8, 14, 78, 89]\n",
      "Separated odd and even index list : [11, 8, 14, 78, 89, 45, 23, 12, 45]\n"
     ]
    }
   ],
   "source": [
    "# Create program here \n",
    "# Using list slicing \n"
   ]
  },
  {
   "cell_type": "code",
   "execution_count": 28,
   "metadata": {},
   "outputs": [
    {
     "name": "stdout",
     "output_type": "stream",
     "text": [
      "[11, 45, 8, 23, 14, 12, 78, 45, 89]\n",
      "[45, 23, 12, 45]\n",
      "[11, 8, 14, 78, 89]\n",
      "[11, 8, 14, 78, 89, 45, 23, 12, 45]\n"
     ]
    }
   ],
   "source": [
    "#separating list into odd and even lists and then creating a list with even and odd list\n",
    "ogList = [11, 45, 8, 23, 14, 12, 78, 45, 89]\n",
    "oddList = ogList[1::2]\n",
    "evenList = ogList[0::2]\n",
    "sepList = evenList + oddList\n",
    "print(ogList)\n",
    "print(oddList)\n",
    "print(evenList)\n",
    "print(sepList)"
   ]
  },
  {
   "cell_type": "markdown",
   "metadata": {},
   "source": [
    "4. Iterate through a given list and check if a given element already exists in a dictionary as a key’s value. If not, delete it from the list."
   ]
  },
  {
   "cell_type": "code",
   "execution_count": 3,
   "metadata": {},
   "outputs": [],
   "source": [
    "rollNumber = [47, 64, 69, 37, 76, 83, 95, 97]\n",
    "sampleDict ={'Zach':47, 'Emma':69, 'Kelly':76, 'Jason':97}"
   ]
  },
  {
   "cell_type": "code",
   "execution_count": 14,
   "metadata": {},
   "outputs": [
    {
     "name": "stdout",
     "output_type": "stream",
     "text": [
      "47\n",
      "Not present\n",
      "64\n",
      "Not present\n",
      "69\n",
      "Not present\n",
      "37\n",
      "Not present\n",
      "76\n",
      "Not present\n",
      "83\n",
      "Not present\n",
      "95\n",
      "Not present\n",
      "97\n",
      "Not present\n"
     ]
    }
   ],
   "source": [
    "# Create program here \n",
    "# given key already exists in a dictionary. \n"
   ]
  },
  {
   "cell_type": "code",
   "execution_count": 34,
   "metadata": {},
   "outputs": [
    {
     "name": "stdout",
     "output_type": "stream",
     "text": [
      "[64, 37, 83, 95]\n"
     ]
    }
   ],
   "source": [
    "#checking list for elements that already exist as a key's value. If not, delete from list.\n",
    "rollNumber = [47, 64, 69, 37, 76, 83, 95, 97]\n",
    "sampleDict ={'Zach':47, 'Emma':69, 'Kelly':76, 'Jason':97}\n",
    "for ele in rollNumber:\n",
    "    for value in sampleDict.values():\n",
    "        if (ele == value):\n",
    "            rollNumber.remove(ele)\n",
    "            \n",
    "print(rollNumber)"
   ]
  },
  {
   "cell_type": "markdown",
   "metadata": {},
   "source": [
    "- - - \n",
    "<!--NAVIGATION-->\n",
    "Module 2. Python Data | [Simple Types](./01_simple_types.ipynb) | [Data Structures](./02_data_structures.ipynb) | **[Exercises](./03_data_exercises.ipynb)**\n",
    "<br>\n",
    "[Top](#)"
   ]
  },
  {
   "cell_type": "markdown",
   "metadata": {},
   "source": [
    "- - -\n",
    "\n",
    "Copyright © 2020 Qualex Consulting Services Incorporated."
   ]
  },
  {
   "cell_type": "code",
   "execution_count": null,
   "metadata": {},
   "outputs": [],
   "source": []
  }
 ],
 "metadata": {
  "kernelspec": {
   "display_name": "Python 3",
   "language": "python",
   "name": "python3"
  },
  "language_info": {
   "codemirror_mode": {
    "name": "ipython",
    "version": 3
   },
   "file_extension": ".py",
   "mimetype": "text/x-python",
   "name": "python",
   "nbconvert_exporter": "python",
   "pygments_lexer": "ipython3",
   "version": "3.7.6"
  }
 },
 "nbformat": 4,
 "nbformat_minor": 4
}
